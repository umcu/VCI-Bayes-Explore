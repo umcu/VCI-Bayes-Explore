{
 "cells": [
  {
   "cell_type": "code",
   "execution_count": 2,
   "id": "7746ed08",
   "metadata": {},
   "outputs": [],
   "source": [
    "import pyagrum as gum\n",
    "import pyagrum.lib.notebook as gnb\n",
    "import matplotlib.pyplot as plt\n",
    "from ipywidgets import interact, fixed\n",
    "import os\n",
    "import pandas as pd"
   ]
  },
  {
   "cell_type": "code",
   "execution_count": 3,
   "id": "e462b638",
   "metadata": {},
   "outputs": [],
   "source": [
    "os.chdir(\"/Volumes/GROUPS/HER/Onderzoek/Neurologie/VCI onderzoek/Malin Overmars/01_HARTBREIN/04_NETWORK\")\n",
    "#os.chdir(\"O:/Neurologie/VCI onderzoek/Malin Overmars/01_HARTBREIN/04_NETWORK\")"
   ]
  },
  {
   "cell_type": "code",
   "execution_count": 4,
   "id": "c64915ab",
   "metadata": {},
   "outputs": [],
   "source": [
    "# Load trained BN\n",
    "bn_reduced = gum.loadBN(\"bn_reduced.bifxml\")"
   ]
  },
  {
   "cell_type": "code",
   "execution_count": 5,
   "id": "c44977f5",
   "metadata": {},
   "outputs": [],
   "source": [
    "bn_vars = pd.read_parquet(\"data/bn_vars.parquet\", engine=\"pyarrow\")"
   ]
  },
  {
   "cell_type": "code",
   "execution_count": 6,
   "id": "bc53712a",
   "metadata": {},
   "outputs": [],
   "source": [
    "# Build the layer map: {1: [var1, var2], 2: [...], ..., 7: [...]}\n",
    "layer_map = (\n",
    "    bn_vars.groupby(\"LAYER\")[\"VARIABLE NAME\"]\n",
    "    .apply(list)\n",
    "    .to_dict()\n",
    ")"
   ]
  },
  {
   "cell_type": "code",
   "execution_count": 7,
   "id": "c3ac546d",
   "metadata": {},
   "outputs": [],
   "source": [
    "# Define your ordered layers and assign them increasing color intensity\n",
    "layer_order = [\n",
    "    'L0 – Unmodifiable demographics',\n",
    "    'L1 – Modifiable demograhpics / Lifestyle factors',\n",
    "    'L2 – Cardiovascular risk factors',\n",
    "    'L3 - Treatment status',\n",
    "    'L4 – Potential disease process markers',\n",
    "    'L5 - Imaging markers of neurovascular damage',\n",
    "    'L6 – Current and previous cardiovascular diagnoses / Vascular interventions',\n",
    "    'L7 - Functional status',\n",
    "    'L8 – Outcomes'  # assumed typo in L7, but we keep both if present\n",
    "]\n",
    "\n",
    "# Create a color intensity map\n",
    "layer_color_map = {\n",
    "    name: i / (len(layer_order)-1)\n",
    "    for i, name in enumerate(layer_order)\n",
    "}\n",
    "\n",
    "# Build the nodeColor dictionary\n",
    "node_colors = {}\n",
    "for layer_name, variables in layer_map.items():\n",
    "    color_val = layer_color_map.get(layer_name, 0.5)  # fallback if unknown\n",
    "    for var in variables:\n",
    "        if var in bn_reduced.names():\n",
    "            node_colors[var] = color_val"
   ]
  },
  {
   "cell_type": "code",
   "execution_count": 8,
   "id": "4b3a5f0d",
   "metadata": {},
   "outputs": [
    {
     "data": {
      "application/vnd.jupyter.widget-view+json": {
       "model_id": "d5065dc6015b4c9f80ff11d2346c1841",
       "version_major": 2,
       "version_minor": 0
      },
      "text/plain": [
       "interactive(children=(Dropdown(description='HIPPOCAMPUS_ICV_RATIO', options=('None', '(0.159529;0.251299[', '[…"
      ]
     },
     "metadata": {},
     "output_type": "display_data"
    }
   ],
   "source": [
    "# Step 1: Prepare the raw labels directly from pyAgrum\n",
    "variables = bn_reduced.names()\n",
    "\n",
    "# Build the label options for each variable including 'None'\n",
    "labels_dict = {var: ['None'] + list(bn_reduced[var].labels()) for var in variables}\n",
    "\n",
    "# Step 2: Build interact parameters\n",
    "interact_params = {'bn_reduced': fixed(bn_reduced)}\n",
    "for var in variables:\n",
    "    interact_params[var] = labels_dict[var]\n",
    "\n",
    "# Step 3: Build the interactive function\n",
    "@interact(**interact_params)\n",
    "def evidence_impact(bn_reduced, **kwargs):\n",
    "    # Build evidence dictionary, excluding variables where 'None' was selected\n",
    "    evs = {var: val for var, val in kwargs.items() if val != 'None'}\n",
    "\n",
    "    gnb.showInference(\n",
    "        bn_reduced,\n",
    "        evs=evs,\n",
    "        size=\"10!\",\n",
    "        nodeColor=node_colors,\n",
    "        cmapNode=plt.get_cmap(\"BuPu\")\n",
    "    )"
   ]
  },
  {
   "cell_type": "code",
   "execution_count": null,
   "id": "760ef911",
   "metadata": {},
   "outputs": [],
   "source": []
  },
  {
   "cell_type": "code",
   "execution_count": 9,
   "id": "37520552",
   "metadata": {},
   "outputs": [
    {
     "ename": "NameError",
     "evalue": "name 'net' is not defined",
     "output_type": "error",
     "traceback": [
      "\u001b[0;31m---------------------------------------------------------------------------\u001b[0m",
      "\u001b[0;31mNameError\u001b[0m                                 Traceback (most recent call last)",
      "Cell \u001b[0;32mIn[9], line 1\u001b[0m\n\u001b[0;32m----> 1\u001b[0m \u001b[43mnet\u001b[49m\u001b[38;5;241m.\u001b[39mshow(\u001b[38;5;124m\"\u001b[39m\u001b[38;5;124minteractive_bn.html\u001b[39m\u001b[38;5;124m\"\u001b[39m)\n",
      "\u001b[0;31mNameError\u001b[0m: name 'net' is not defined"
     ]
    }
   ],
   "source": [
    "net.show(\"interactive_bn.html\")"
   ]
  },
  {
   "cell_type": "code",
   "execution_count": null,
   "id": "b21133b0",
   "metadata": {},
   "outputs": [],
   "source": []
  }
 ],
 "metadata": {
  "kernelspec": {
   "display_name": "Python 3",
   "language": "python",
   "name": "python3"
  },
  "language_info": {
   "codemirror_mode": {
    "name": "ipython",
    "version": 3
   },
   "file_extension": ".py",
   "mimetype": "text/x-python",
   "name": "python",
   "nbconvert_exporter": "python",
   "pygments_lexer": "ipython3",
   "version": "3.13.0"
  }
 },
 "nbformat": 4,
 "nbformat_minor": 5
}
